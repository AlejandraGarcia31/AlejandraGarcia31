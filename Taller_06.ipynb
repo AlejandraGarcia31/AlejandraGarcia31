{
  "cells": [
    {
      "cell_type": "markdown",
      "metadata": {
        "id": "view-in-github",
        "colab_type": "text"
      },
      "source": [
        "<a href=\"https://colab.research.google.com/github/AlejandraGarcia31/AlejandraGarcia31/blob/main/Taller_06.ipynb\" target=\"_parent\"><img src=\"https://colab.research.google.com/assets/colab-badge.svg\" alt=\"Open In Colab\"/></a>"
      ]
    },
    {
      "cell_type": "markdown",
      "metadata": {
        "id": "svZa0r16bMoV"
      },
      "source": [
        "<h1 align=\"center\">Taller 06 - Introducción a Listas</h1>"
      ]
    },
    {
      "cell_type": "markdown",
      "metadata": {
        "id": "irVwKxiEbMoX"
      },
      "source": [
        "## Ejercicio 01: Crear una lista\n",
        "\n",
        "Suponga que tenemos los puntos que han hecho en el campeonato de fútbol, cinco equipos colombianos. Escribir un programa que crea una lista, llamada ``puntos_equipos`` que contiene los puntos de junior, panteras, millonarios, nacional y america, en ese orden. Utilice la variables que están en el programa. Luego imprima la lista, usando la función ``print()``."
      ]
    },
    {
      "cell_type": "code",
      "execution_count": 1,
      "metadata": {
        "id": "v4LEnX-PbMoY",
        "colab": {
          "base_uri": "https://localhost:8080/"
        },
        "outputId": "2f512755-e70b-4fb2-9de3-eecf1b0f44c7"
      },
      "outputs": [
        {
          "output_type": "stream",
          "name": "stdout",
          "text": [
            "[47, 27, 3, 18, 23]\n",
            "Prueba superada 😎\n"
          ]
        }
      ],
      "source": [
        "# Las variables con los puntos de los equipos\n",
        "junior = 47\n",
        "panteras = 27\n",
        "millonarios = 3\n",
        "nacional = 18\n",
        "america = 23\n",
        "# TODO: Crear la lista puntos_equipos\n",
        "puntos_equipos = [junior, panteras, millonarios, nacional, america]\n",
        "\n",
        "# TODO: imprimir la lista\n",
        "print (puntos_equipos)\n",
        "\n",
        "# Verificación\n",
        "assert puntos_equipos == [47, 27, 3, 18, 23]\n",
        "print (\"Prueba superada 😎\")\n"
      ]
    },
    {
      "cell_type": "markdown",
      "metadata": {
        "id": "30WUyWEKbMoa"
      },
      "source": [
        "---"
      ]
    },
    {
      "cell_type": "markdown",
      "metadata": {
        "id": "4y6qUrYQbMob"
      },
      "source": [
        "## Ejercicio 02: Obtener datos de la lista\n",
        "\n",
        "Suponga que tenemos la lista con las edades de varios estudiantes. Escriba instrucciones para llevar a cabos las siguientes tareas:\n",
        "\n",
        "* Imprimir el tamaño o el número de elementos de la lista ``edades``.\n",
        "* Imprimir el segundo elemento de la lista de ``edades`` (debe ser un 11)\n",
        "* Obtener e imprimir el último elemento de la lista de ``edades`` (que debe ser un 9). Use un índice negativo.\n",
        "* Imprimir el elemento que se encuentra en la mitad de la lista (que debe ser un 20).\n",
        "* Usando múltiples índices, guardar en una variable, llamada ``primeros`` los primeros 6 elementos de la lista de ``edades``. Imprima la variable ``primeros``.\n",
        "* Usando múltiples índices, guardar en una variable llamada ``ultimos`` los últimos 4 elementos de la lista de ``eddades``. Imprima la varibale ``ultimos``.\n"
      ]
    },
    {
      "cell_type": "code",
      "execution_count": 6,
      "metadata": {
        "id": "HpBHGePrbMob",
        "colab": {
          "base_uri": "https://localhost:8080/"
        },
        "outputId": "e33aad15-868c-4bf8-d0a5-fb42a2bb5b8f"
      },
      "outputs": [
        {
          "output_type": "stream",
          "name": "stdout",
          "text": [
            "9\n",
            "11\n",
            "9\n",
            "20\n",
            "[28, 45, 22, 9]\n",
            "[28, 45, 22, 9]\n"
          ]
        }
      ],
      "source": [
        "# Tenemos la lista de edades\n",
        "edades = [18, 11, 34, 63, 20, 28, 45, 22, 9]\n",
        "\n",
        "# TODO: Imprimir el tamaño o el número de elementos de la lista edades.\n",
        "print (len (edades))\n",
        "\n",
        "# TODO: Imprimir el segundo elemento de la lista de edades (debe ser un 11)\n",
        "print (edades [1])\n",
        "\n",
        "# TODO: Obtener e imprimir el último elemento de la lista de edades (que debe ser un 9). Use un índice negativo.\n",
        "edad = edades [-1]\n",
        "print (edad)\n",
        "\n",
        "# TODO: Imprimir el elemento que se encuentra en la mitad de la lista (que debe ser un 20).\n",
        "print (edades [len (edades) // 2])\n",
        "\n",
        "# TODO: Usando múltiples índices, guardar en una variable, llamada primeros los primeros 6 elementos de la lista de edades. Imprima la variable primeros.\n",
        "primeros = edades [5 : 9]\n",
        "print (primeros)\n",
        "\n",
        "# TODO: Usando múltiples índices, guardar en una variable llamada ultimos los últimos 4 elementos de la lista de eddades. Imprima la varibale ultimos.\n",
        "ultimos = edades [5 : 9]\n",
        "print (ultimos)\n",
        "\n",
        "# TODO: Guardar en otra variable ``primeros2`` otra vez los primeros 6 elementos de la lista ``edades``. Esta vez simplifique la escogencia omitiendo el índice inicial\n",
        "primeros2 = primeros\n",
        "\n",
        "# TODO: Guardar en otra variable ``ultimos2`` otra vez los últimos 4 elementos de la lista ``edades``. Esta vez simplifique la escogencia omitiendo el índice final\n",
        "ultimos2 = ultimos \n",
        "\n"
      ]
    },
    {
      "cell_type": "markdown",
      "metadata": {
        "id": "ewLkSTfWbMob"
      },
      "source": [
        "---"
      ]
    },
    {
      "cell_type": "markdown",
      "metadata": {
        "id": "YhPF6V-fbMoc"
      },
      "source": [
        "## Ejercicio 03: Manipulando listas\n",
        "\n",
        "Vamos a realizar el siguiente trabajo para modificar la lista de edades.\n",
        "\n",
        "* Actualice el valor del último elemento de la lista ``edades``. Ya no queremos que sea un ``9`` sino que sea un 19.\n",
        "* Modifique el valor del tercer elemento de la lista de ``edades``. Guardar un 24 en esa posición.\n",
        "* Imprima la lista de edades. Verifique que el tercer elemento sea un 24, y que el último sea un 19.\n",
        "* Agregue los elementos ``21``, ``32`` y ``16`` al final de la lista ``edades``. Imprima el tamaño de la lista y luego imprima la lista.\n",
        "* Elimine el primer elemento de la lista, y luego elimine el quinto elemento de la lista de edades. Imprima la lista y el tamaño de la lista también."
      ]
    },
    {
      "cell_type": "code",
      "execution_count": 7,
      "metadata": {
        "id": "-tZKFjhQbMoc",
        "colab": {
          "base_uri": "https://localhost:8080/"
        },
        "outputId": "b4c60732-5c4a-4a6f-d5c6-bdb494ed426e"
      },
      "outputs": [
        {
          "output_type": "stream",
          "name": "stdout",
          "text": [
            "[18, 11, 24, 34, 63, 20, 28, 45, 22, 9, 19]\n",
            "14\n",
            "[18, 11, 24, 34, 63, 20, 28, 45, 22, 9, 19, 21, 32, 16]\n",
            "12\n",
            "[11, 24, 34, 63, 28, 45, 22, 9, 19, 21, 32, 16]\n"
          ]
        }
      ],
      "source": [
        "edades = [18, 11, 34, 63, 20, 28, 45, 22, 9]\n",
        "\n",
        "# TODO: Actualice el valor del último elemento de la lista edades. Ya no queremos que sea un 9 sino que sea un 19.\n",
        "edades.append (19)\n",
        "\n",
        "# TODO: Modifique el valor del tercer elemento de la lista de edades. Guardar un 24 en esa posición.\n",
        "edades.insert (2, 24)\n",
        "\n",
        "# TODO: Imprima la lista de edades. Verifique que el tercer elemento sea un 24, y que el último sea un 19.\n",
        "print (edades)\n",
        "\n",
        "# TODO: Agregue los elementos 21, 32 y 16 al final de la lista edades. Imprima el tamaño de la lista y luego imprima la lista.\n",
        "edades.extend ([21, 32, 16])\n",
        "print(len (edades))\n",
        "print (edades)\n",
        "\n",
        "# TODO: Elimine el primer elemento de la lista, y luego elimine el quinto elemento de la lista de edades. Imprima la lista y el tamaño de la lista también.\n",
        "edades.pop (0)\n",
        "edades.pop (4)\n",
        "print (len (edades))\n",
        "print (edades)\n",
        "\n"
      ]
    },
    {
      "cell_type": "markdown",
      "metadata": {
        "id": "_r7O0ST_bMod"
      },
      "source": [
        "---"
      ]
    },
    {
      "cell_type": "markdown",
      "metadata": {
        "id": "wFbbvqEzbMod"
      },
      "source": [
        "## Ejercicio 04 - Leer una lista de números\n",
        "\n",
        "Escribir un **programa** en Python que lea la edad de $N$ estudiantes del curso, los almacene en una lista de números y luego imprima la lista"
      ]
    },
    {
      "cell_type": "code",
      "execution_count": 9,
      "metadata": {
        "id": "jBrsBWHdbMod",
        "colab": {
          "base_uri": "https://localhost:8080/"
        },
        "outputId": "7c6678b2-d7f6-410f-eb85-f95705d57cdf"
      },
      "outputs": [
        {
          "output_type": "stream",
          "name": "stdout",
          "text": [
            "Cuantos estudiandes hay en el curso: 3\n",
            "inserte su edad: 21\n",
            "inserte su edad: 19\n",
            "inserte su edad: 17\n",
            "las edades de los estudiantes son: [21, 19, 17] \n"
          ]
        }
      ],
      "source": [
        "# Programa en Python para leer la edad de varios estudiantes. \n",
        "# Vamos a preguntar cuantos estudiantes hay = N.\n",
        "lista_edades = []\n",
        "N = int (input (\"Cuantos estudiandes hay en el curso: \"))\n",
        "Estudiante = 0\n",
        "while True:\n",
        "    if N > 0:\n",
        "        Edad = int (input (\"inserte su edad: \"))\n",
        "        lista_edades.append (Edad)\n",
        "    Estudiante = Estudiante + 1\n",
        "    if Estudiante == N:\n",
        "        break\n",
        "print (f\"las edades de los estudiantes son: {lista_edades} \")\n"
      ]
    },
    {
      "cell_type": "markdown",
      "metadata": {
        "id": "f6S-ynMebMoe"
      },
      "source": [
        "---\n",
        "\n",
        "## Ejercicio 05 - Leer una lista de tuplas\n",
        "\n",
        "Escribir un **Programa** que le pregunte al usuario el nombre de paises y sus capitales, los guarde en un *Par*  o *Tupla*, y luego almacene ese par en una lista. Para finalizar, el nombre del país y el nombre de la capital deben ser vacíos (al tiempo). Imprima la lista una vez finalice la lectura de los datos"
      ]
    },
    {
      "cell_type": "code",
      "execution_count": 37,
      "metadata": {
        "id": "g8dwGSnobMoe",
        "colab": {
          "base_uri": "https://localhost:8080/"
        },
        "outputId": "b1154722-9f57-43fb-f1df-ff512951802d"
      },
      "outputs": [
        {
          "output_type": "stream",
          "name": "stdout",
          "text": [
            "Inserte el pais: Colombia\n",
            "Insterte la capital: bogota\n",
            "Inserte el pais: Brasil\n",
            "Insterte la capital: brasilia \n",
            "Inserte el pais: ' '\n",
            "Insterte la capital: ' ' \n",
            "Inserte el pais: \n",
            "Insterte la capital: \n",
            "[('Colombia', 'bogota'), ('Brasil', 'brasilia '), (\"' '\", \"' ' \"), ('', '')]\n"
          ]
        }
      ],
      "source": [
        "\n",
        "# Programa en Python para leer paises y capitales. Vamos a preguntar cuantos paises leer.\n",
        "Lista_paises_capitales = []\n",
        "\n",
        "while True:\n",
        "    Pais = str (input (\"Inserte el pais: \"))\n",
        "    Capital = str (input (\"Insterte la capital: \"))\n",
        "    Tupla = (Pais, Capital)\n",
        "    Lista_paises_capitales.append (Tupla)\n",
        "    if Pais == \"\" and Capital == \"\":\n",
        "        break\n",
        "print (Lista_paises_capitales)"
      ]
    },
    {
      "cell_type": "markdown",
      "metadata": {
        "id": "EbkEj8DzbMoe"
      },
      "source": [
        "---\n",
        "\n",
        "## Ejercicio 06 \n",
        "\n",
        "Escribir un Programa en Python que le pregunte a un usuario el nombre, carrera y promedio en la carrera, de varios estudiantes de la universidad, almacene cada uno de esos tres datos en una tupla, y luego guarde la tupla en una lista. Al final, imprima la lista. Use un while para saber si debemos seguir o no en la lectura de los datos."
      ]
    },
    {
      "cell_type": "code",
      "execution_count": 15,
      "metadata": {
        "id": "mhfK-n60bMof",
        "colab": {
          "base_uri": "https://localhost:8080/"
        },
        "outputId": "ead8e2fa-1372-4b05-de5e-59a68a079872"
      },
      "outputs": [
        {
          "output_type": "stream",
          "name": "stdout",
          "text": [
            "Desea responder unas preguntas al programa, para SI digite (1) , para No digite (2):   1\n",
            "Inserte su nombre: Aleja\n",
            "Inserte su carrera: Quimica\n",
            "Inserte su promedio en la carrera: 70\n",
            "Desea responder unas preguntas al programa, para SI digite (1) para NO digite (2): 1\n",
            "Inserte su nombre: Majo\n",
            "Inserte su carrera: Sistemas\n",
            "Inserte su promedio en la carrera: 80\n",
            "Desea responder unas preguntas al programa, para SI digite (1) para NO digite (2): 2\n",
            "[('Aleja', 'Quimica', 70), ('Majo', 'Sistemas', 80)]\n"
          ]
        }
      ],
      "source": [
        "# Programa en Python para leer información de varios estudiantes. Use un while para saber si seguimos la lectura o no\n",
        "lista_universidad = []\n",
        "respuesta = int (input (\"Desea responder unas preguntas al programa, para SI digite (1) , para No digite (2):   \"))\n",
        "\n",
        "while (respuesta == 1):\n",
        "    Nombre = str (input (\"Inserte su nombre: \"))\n",
        "    Carrera = str (input (\"Inserte su carrera: \"))\n",
        "    Promedio = int (input (\"Inserte su promedio en la carrera: \"))\n",
        "    Tupla = (Nombre, Carrera, Promedio)\n",
        "    lista_universidad.append (Tupla)\n",
        "    respuesta = int (input (\"Desea responder unas preguntas al programa, para SI digite (1) para NO digite (2): \"))\n",
        "while (respuesta == 2):\n",
        "    break\n",
        "print (lista_universidad)"
      ]
    },
    {
      "cell_type": "markdown",
      "metadata": {
        "id": "SX2wZ6xXbMof"
      },
      "source": [
        "---\n",
        "\n",
        "## Ejercicio 07 - Contar de una lista \n",
        "\n",
        "Escriba una **función** en Python que reciba una lista de números ```float``` que representa los promedios de temperatura en Bogotá en los últimos días, y que retorne cuántas de esas temperaturas están entre los 15 y los 20 grados centígrados."
      ]
    },
    {
      "cell_type": "code",
      "execution_count": 16,
      "metadata": {
        "id": "OMfvbRVqbMof",
        "colab": {
          "base_uri": "https://localhost:8080/"
        },
        "outputId": "e6c5ae6b-f403-49a9-ba0d-0aa24724eb29"
      },
      "outputs": [
        {
          "output_type": "stream",
          "name": "stdout",
          "text": [
            "Prueba superada 💪🏽\n"
          ]
        }
      ],
      "source": [
        "# Función que cuenta en una lista\n",
        "def contar_temperaturas(temps: [float]) -> int:\n",
        "    Contar = 0\n",
        "    for i in temps:\n",
        "        if (i >= 15 and i <= 20):\n",
        "            Contar = Contar + 1\n",
        "    return Contar\n",
        "\n",
        "\n",
        "# Pruebas de la función anterior\n",
        "assert contar_temperaturas([11, 18, 23.5, 19.5, 6, 16.3, 22.1, 4.6, 18.9, 18.6, 15.1, 16.1, 19.9, 1.5, 12, 21.7]) == 8\n",
        "print(\"Prueba superada 💪🏽\")"
      ]
    },
    {
      "cell_type": "markdown",
      "metadata": {
        "id": "3Q2V-oj3bMof"
      },
      "source": [
        "---\n",
        "\n",
        "## Ejercicio 08\n",
        "\n",
        "Escriba una **función** en Python que reciba una lista de números enteros que representan la edad de los diversos compañeros del curso, y que calcule y retorne cuántos de esos compañeros son menores de edad, es decir, cuántas edades son inferiores a 18 años."
      ]
    },
    {
      "cell_type": "code",
      "execution_count": 17,
      "metadata": {
        "id": "K6R15n6HbMof",
        "colab": {
          "base_uri": "https://localhost:8080/"
        },
        "outputId": "4f19378d-2c04-4697-f645-a94989dd934e"
      },
      "outputs": [
        {
          "output_type": "stream",
          "name": "stdout",
          "text": [
            "Prueba superada 💪🏽\n"
          ]
        }
      ],
      "source": [
        "# Función que cuenta los menores de edad en una lista de edades\n",
        "def ejercicio08(lista_edades:[int]) -> int:\n",
        "                Contar = 0 \n",
        "                for i in lista_edades :\n",
        "                    if (i > 0 and i < 18):\n",
        "                        Contar = Contar + 1\n",
        "                return Contar\n",
        "    \n",
        "\n",
        "# Pruebas de la función anterior\n",
        "assert ejercicio08([23, 31, 16, 11, 21, 18, 34, 45, 17, 16, 32, 43, 20, 19, 18, 16, 14, 33]) == 6\n",
        "print(\"Prueba superada 💪🏽\")"
      ]
    },
    {
      "cell_type": "markdown",
      "metadata": {
        "id": "fpt_tnokbMog"
      },
      "source": [
        "---\n",
        "\n",
        "## Ejercicio 09\n",
        "\n",
        "SEn Python, resulta que una palabra es una lista de letras. A partir de esto, escriba una **función** en Python que cuente en esa lista de letras cuántas vocales en minúsculas hay en la lista.\n"
      ]
    },
    {
      "cell_type": "code",
      "execution_count": 19,
      "metadata": {
        "id": "XjktPZwkbMog",
        "colab": {
          "base_uri": "https://localhost:8080/"
        },
        "outputId": "c71fcc74-68ec-43c5-cbae-536d52a60553"
      },
      "outputs": [
        {
          "output_type": "stream",
          "name": "stdout",
          "text": [
            "Prueba superada 💪🏽\n"
          ]
        }
      ],
      "source": [
        "# Función que cuenta las vocales en una palabra\n",
        "def ejercicio09(palabra: str) -> int:\n",
        "    Contar = 0\n",
        "    for i in palabra:\n",
        "        if (i == \"a\"):\n",
        "            Contar = Contar + 1\n",
        "        elif (i == \"e\"):\n",
        "            Contar = Contar + 1\n",
        "        elif (i == \"i\"):\n",
        "            Contar = Contar + 1\n",
        "        elif (i == \"o\"):\n",
        "            Contar = Contar + 1\n",
        "        elif (i == \"u\"):\n",
        "            Contar = Contar + 1\n",
        "    return Contar\n",
        "\n",
        "# Pruebas de la función anterior\n",
        "assert (ejercicio09(\"Lorem ipsum dolor sit Amet, consectetur adipiscing elit\")) == 18\n",
        "assert (ejercicio09 (\"Ut enim ad minima veniam, quis nostrum exercitationem ullam corporis\")) == 25\n",
        "print(\"Prueba superada 💪🏽\")"
      ]
    },
    {
      "cell_type": "markdown",
      "metadata": {
        "id": "p10Xz2gebMog"
      },
      "source": [
        "---\n",
        "\n",
        "## Ejercicio 10\n",
        "\n",
        "Escriba una función en Python que reciba una lista de números enteros positivos, y que retorne cuántos de los números de la lista son múltiplos de 2, 3 y 5 al mismo tiempo."
      ]
    },
    {
      "cell_type": "code",
      "execution_count": null,
      "metadata": {
        "id": "E47Dy2PTbMog"
      },
      "outputs": [],
      "source": [
        "# Función que cuenta los múltiplos\n",
        "def ejercicio10(numeros: [int]) -> int:\n",
        "                Contar = 0\n",
        "                for i in numeros:\n",
        "                    if (i % 2 == 0 and i % 3 == 0 and i % 5 == 0):\n",
        "                        Contar = Contar  + 1\n",
        "                    return Contar\n",
        "\n",
        "# Pruebas para la función anterior\n",
        "assert (ejercicio10 ([5, 10, 30, 25, 24, 60, 12, 100, 120, 15, 90, 95, 36, 35, 72, 180])) == 5\n",
        "print(\"Prueba superada 💪🏽\")"
      ]
    },
    {
      "cell_type": "markdown",
      "metadata": {
        "id": "Y57WAmMlbMoh"
      },
      "source": [
        "---\n",
        "\n",
        "## Ejercicio 11 - Múltiples contadores\n",
        "\n",
        "Escriba una función en Python que reciba una lista con los nombre de los perros de mis vecinos, y que retorne cuántos perros de la lista se llaman ```\"fifi\"``` y cuantos se llaman ```\"mateo\"```. **OJO: Son dos contadores diferentes**."
      ]
    },
    {
      "cell_type": "code",
      "execution_count": 25,
      "metadata": {
        "id": "GFo24Q99bMoh",
        "colab": {
          "base_uri": "https://localhost:8080/"
        },
        "outputId": "4309d8b7-d627-45cd-ae37-a807771977f0"
      },
      "outputs": [
        {
          "output_type": "stream",
          "name": "stdout",
          "text": [
            "Prueba superada 💪🏽\n"
          ]
        }
      ],
      "source": [
        "# Función que cuenta el número de perros\n",
        "def ejercicio11(perros: [str]) -> (int, int):\n",
        "                Contar_fifi = 0\n",
        "                Contar_mateo = 0\n",
        "                for i in perros:\n",
        "                    if (i == \"fifi\" ):\n",
        "                        Contar_fifi = Contar_fifi + 1\n",
        "                    elif (i == \"mateo\" ):\n",
        "                        Contar_mateo = Contar_mateo + 1\n",
        "                return Contar_fifi , Contar_mateo\n",
        "\n",
        "# Prueba de la función anterior\n",
        "assert (ejercicio11([\"lila\", \"firulais\", \"romeo\", \"fifi\", \"neron\", \"milagro\", \"fifi\", \"lila\", \"cariño\", \"rosa\", \"fifi\", \"mateo\", \"rex\"])) == (3,1)\n",
        "print(\"Prueba superada 💪🏽\")"
      ]
    },
    {
      "cell_type": "markdown",
      "metadata": {
        "id": "S5nX-Km-bMoi"
      },
      "source": [
        "---\n",
        "\n",
        "## Ejercicio 12 - Contar en listas de tuplas\n",
        "\n",
        "En una tupla de dos elementos hemos almacenado el resultado de cada uno de los partidos que ha jugado el Junior de Barranquilla. El primer elemento es la cantidad de goles que hizo el equipo en el partido, y el segundo elemento corresponde a los goles que le hicieron al equipo en el partido. Escriba una función que reciba esta lista de tuplas con los resultados de los partidos, y que retorne cuántos partidos ganó en total, cuántos empató y cuántos perdió."
      ]
    },
    {
      "cell_type": "code",
      "execution_count": 26,
      "metadata": {
        "id": "tL4YTpS2bMoi",
        "colab": {
          "base_uri": "https://localhost:8080/"
        },
        "outputId": "61da6846-2747-4463-e9d4-478e5a2dde00"
      },
      "outputs": [
        {
          "output_type": "stream",
          "name": "stdout",
          "text": [
            "Prueba superada 💪🏽\n"
          ]
        }
      ],
      "source": [
        "# Función para contar partidos\n",
        "def resultados_partidos(partidos:[(int, int)]) -> (int, int, int):\n",
        "    ganados = 0\n",
        "    perdidos = 0\n",
        "    empatados = 0\n",
        "    for (g,p) in partidos:\n",
        "        if (g > p):\n",
        "            ganados = ganados + 1\n",
        "        elif (g < p):\n",
        "            perdidos = perdidos + 1\n",
        "        else: \n",
        "            empatados = empatados + 1\n",
        "    return (ganados, perdidos, empatados)\n",
        "\n",
        "# prueba de la función anterior\n",
        "assert (resultados_partidos([(1, 3), (0, 0), (4, 0), (5, 3), (2, 2), (4, 3), (1, 0), (1, 2), (0, 0), (3, 2), (3, 1), (7, 0), (0, 2), (3, 3), (4, 2), (3, 4)])) == (8, 4, 4)\n",
        "print(\"Prueba superada 💪🏽\")"
      ]
    },
    {
      "cell_type": "markdown",
      "metadata": {
        "id": "J_vW5IaLbMoi"
      },
      "source": [
        "---\n",
        "\n",
        "# Ejercicio 13\n",
        "\n",
        "La información de los salarios de una empresa se almacena en una tupla de 3 elementos, de la siguiente manera:\n",
        "\n",
        "* El primer elemento es el cargo del empleado\n",
        "* El segundo elemento de la tupla es la edad del empleado\n",
        "* El tercer elemento de la tupla es el sueldo del empleado\n",
        "\n",
        "Escriba una función en Python que reciba esta lista de tuplas con la información de los empleados, y que retorne cuántos empleados que tienen un cargo de gerente o contador, tienen entre 45 y 50 años, pero ganan menos de dos millones de pesos."
      ]
    },
    {
      "cell_type": "code",
      "execution_count": 30,
      "metadata": {
        "id": "ZLwVYvO6bMoj",
        "colab": {
          "base_uri": "https://localhost:8080/"
        },
        "outputId": "7dc81bdd-af0b-4b50-ef2b-6aa3a3b36c21"
      },
      "outputs": [
        {
          "output_type": "stream",
          "name": "stdout",
          "text": [
            "Prueba superada 💪🏽\n"
          ]
        }
      ],
      "source": [
        "# Función para resolver el ejercicio 13\n",
        "def ejercicio13(empleados: [(str, int, float)]) -> int:\n",
        "    personal = 0\n",
        "    for (Cargo, Edad, Sueldo) in empleados:\n",
        "        if Cargo == \"gerente\" or Cargo == \"contador\" and Edad >= 45 and Edad <= 50 and Sueldo < 2_000_000:\n",
        "            personal = personal + 1\n",
        "    return personal\n",
        "\n",
        "# Pruebas de la función anterior\n",
        "assert (ejercicio13([(\"director\", 38, 1_500000), (\"gerente\", 47, 1_450_000), (\"celador\", 63, 700_000), (\"director\", 29, 2_700_000),\n",
        "                    (\"contador\", 51, 1_900_000), (\"contador\", 49, 1_900_000), (\"analista\", 23, 11_200_000), (\"gerente\", 46, 1_200_000),\n",
        "                    (\"contador\", 39, 2_100_000), (\"profesional\", 36, 2_100_000), (\"gerente\", 45, 1_050_000), (\"contador\", 46, 800_000)])) == 5\n",
        "print(\"Prueba superada 💪🏽\")  "
      ]
    },
    {
      "cell_type": "markdown",
      "metadata": {
        "id": "tfVx2BWbbMoj"
      },
      "source": [
        "---\n",
        "\n",
        "# Ejercicio 14\n",
        "\n",
        "Un estudiante registra toda su historia académica en una lista de tuplas con la siguiente conformación:\n",
        "\n",
        "* El primer elemento es el nombre de la unidad de estudio\n",
        "* El segundo elemento es número de créditos de la unidad de estudio\n",
        "* El tercer elemento es el semestre al que pertenece esa unidad de estudio\n",
        "* El cuarto y quinto elemento son las notas del primer corte y segundo corte de la unidad de estudios\n",
        "\n",
        "Sabiendo que para obtener la nota final de una unidad de estudios debemos tener en cuenta que el primer corte pesa el 40% de la nota final, y el segundo corte pesa el 60% de la nota, escriba una función que reciba esta lista con las notas del estudiante y que retorne cuántas unidades de estudio perdió el estudiante."
      ]
    },
    {
      "cell_type": "code",
      "execution_count": 31,
      "metadata": {
        "id": "xOtABZ4JbMoj",
        "colab": {
          "base_uri": "https://localhost:8080/"
        },
        "outputId": "6042d660-ac2c-4e71-a471-06f486e8d837"
      },
      "outputs": [
        {
          "output_type": "stream",
          "name": "stdout",
          "text": [
            "Prueba superada 💪🏽\n"
          ]
        }
      ],
      "source": [
        "# Función para resolver el Ejercicio 14: Completar los datos de entrada\n",
        "def ejercicio14(materias:[(str, int, int, int, int)]) -> int:\n",
        "    Unidades_perdidas = 0\n",
        "    for (Unidad, Creditos, Semestre, Primer_corte, Segundo_corte) in materias:\n",
        "        if ((Primer_corte * 0.4) + (Segundo_corte * 0.6)) < 60:\n",
        "            Unidades_perdidas = Unidades_perdidas + 1\n",
        "    return Unidades_perdidas\n",
        "\n",
        "# Pruebas para la función anterior\n",
        "assert (ejercicio14([(\"calculo\", 6, 1, 45, 67), (\"frances\", 3, 2, 77, 89), (\"calculo\", 6, 1, 72, 58), (\"ecuaciones\", 3, 4, 68, 61),\n",
        "                    (\"ingles basico\", 3, 2, 79, 85), (\"quimica\", 4, 1, 88, 92), (\"fisica\", 3, 2, 56,61), (\"procesos\", 3, 4, 75, 77),\n",
        "                    (\"cultura\", 2, 3, 33, 21), (\"deportes\", 2, 1, 98, 90), (\"cocina\", 3, 4, 79, 98), (\"estadistica\", 3, 4, 53, 10)])) == 4\n",
        "\n",
        "print(\"Prueba superada 💪🏽\") "
      ]
    },
    {
      "cell_type": "markdown",
      "metadata": {
        "id": "yrHlb7OsbMok"
      },
      "source": [
        "---\n",
        "\n",
        "# Ejercicio 15\n",
        "\n",
        "La información sobre todos los contagiados de Coronavirus son almacenados en una tupla con la siguiente coformación:\n",
        "\n",
        "* El primer elemento de la tupla es el género del contagiado ('M' = masculino, y 'F' = femenino)\n",
        "* El segundo elemento es la edad del contagiado\n",
        "* El tercer elemento de la tupla es cuantos días lleva contagiado\n",
        "* El cuarto elemento es si el contagiado falleció o no (True == si falleció, False == no falleció)\n",
        "\n",
        "Escriba una función en Python que reciba una lista con estas tuplas que representan la información de los contagiados y que retorne cuántas mujeres mayores de 60 años han fallecido y cuántos menores de edad tienen más de una semana de haber sido contagiados."
      ]
    },
    {
      "cell_type": "code",
      "execution_count": 32,
      "metadata": {
        "id": "DKh7AHUsbMok",
        "colab": {
          "base_uri": "https://localhost:8080/"
        },
        "outputId": "82e0085c-b24e-4ec1-a258-ac09f1b55110"
      },
      "outputs": [
        {
          "output_type": "stream",
          "name": "stdout",
          "text": [
            "Prueba superada 💪🏽\n"
          ]
        }
      ],
      "source": [
        "# Función para resolver el Ejercicio 15\n",
        "def ejercicio15(contagiados: [(str, int, int, bool)]) -> int:\n",
        "    Mujeres = 0\n",
        "    Menores = 0\n",
        "    for (Sexo, Edad, Dias, Fallecidos) in contagiados:\n",
        "        if (Sexo ==\"F\" and Edad > 60 and Fallecidos == True):\n",
        "            Mujeres = Mujeres + 1\n",
        "        if (Edad < 18 and Dias > 7):\n",
        "            Menores = Menores + 1 \n",
        "    return Mujeres, Menores\n",
        "    \n",
        "\n",
        "    \n",
        "\n",
        "# Pruebas de la función anterior\n",
        "assert (ejercicio15([('M', 23, 12, False), ('M', 45, 3, False), ('M', 72, 6, True), ('F', 81, 11, True), ('M', 11, 12, False), ('M', 17, 8, True),\n",
        "                   ('F', 77, 3, True), ('M', 67, 4, False), ('F', 61, 5, True), ('M', 14, 28, False), ('M', 44, 11, True), ('M', 6, 3, False),\n",
        "                    ('M', 28, 19, False), ('F', 91, 10, True)])) == (4, 3)\n",
        "print(\"Prueba superada 💪🏽\")           "
      ]
    },
    {
      "cell_type": "markdown",
      "metadata": {
        "id": "ejNsZlafbMok"
      },
      "source": [
        "---\n",
        "\n",
        "# Ejercicio 16\n",
        "\n",
        "Seguimos trabajando con la lista de contagiados presentada anteriormente. Escriba una función que permita saber cuantos fallecido hay de cada género, es decir, cuántas mujeres han fallecido y cuántos hombres han fallecido."
      ]
    },
    {
      "cell_type": "code",
      "execution_count": 33,
      "metadata": {
        "id": "GN9aZMI3bMol",
        "colab": {
          "base_uri": "https://localhost:8080/"
        },
        "outputId": "e7bd4d1b-736c-4f4b-da69-ff77564d1132"
      },
      "outputs": [
        {
          "output_type": "stream",
          "name": "stdout",
          "text": [
            "Prueba superada 💪🏽\n"
          ]
        }
      ],
      "source": [
        "# Función para resolver el ejercicio 16\n",
        "def ejercicio16(contagiados: [(str, int, int, int, )]) -> (int, int):\n",
        "    Mujeres = 0\n",
        "    Hombres = 0\n",
        "    for (Sexo, Edad, Dias, Fallecidos) in contagiados:\n",
        "        if (Sexo == \"F\" and Fallecidos == True):\n",
        "            Mujeres = Mujeres + 1\n",
        "        if (Sexo == \"M\" and Fallecidos == True):\n",
        "            Hombres = Hombres + 1\n",
        "    return Mujeres, Hombres\n",
        "\n",
        "# Pruebas de la función anterior\n",
        "assert (ejercicio16([('M', 23, 12, False), ('M', 45, 3, False), ('M', 72, 6, True), ('F', 81, 11, True), ('M', 11, 12, False), ('M', 17, 8, True),\n",
        "                   ('F', 77, 3, True), ('M', 67, 4, False), ('F', 61, 5, True), ('M', 14, 28, False), ('M', 44, 11, True), ('M', 6, 3, False),\n",
        "                    ('M', 28, 19, False), ('F', 91, 10, True), ('F', 72, 6, True)])) == (5, 3)\n",
        "print(\"Prueba superada 💪🏽\")   "
      ]
    },
    {
      "cell_type": "markdown",
      "metadata": {
        "id": "aoQi0iSAbMol"
      },
      "source": [
        "---\n",
        "\n",
        "## Ejercicio 17\n",
        "\n",
        "Seguimos trabajando con la lista de contagiados. Ahora queremos saber cuántas personas que no han fallecido tienen entre 20 y 30 años de edad."
      ]
    },
    {
      "cell_type": "code",
      "execution_count": 34,
      "metadata": {
        "id": "Wen5WsmZbMol",
        "colab": {
          "base_uri": "https://localhost:8080/"
        },
        "outputId": "39969f2b-dcff-4e43-8848-8a0936d54564"
      },
      "outputs": [
        {
          "output_type": "stream",
          "name": "stdout",
          "text": [
            "Prueba superada 💪🏽\n"
          ]
        }
      ],
      "source": [
        "# Función para resolver el ejercicio 17\n",
        "def ejercicio17(contagiados: [(str, int, int, bool)]) -> int:\n",
        "    Personas_vivas = 0\n",
        "    for (Sexo, Edad, Dias, Fallecidos) in contagiados:\n",
        "        if (Fallecidos == False and Edad >= 20 and Edad <= 30):\n",
        "            Personas_vivas = Personas_vivas + 1\n",
        "    return Personas_vivas\n",
        "\n",
        "# Pruebas de la función anterior\n",
        "assert (ejercicio17([('M', 23, 12, False), ('M', 45, 3, False), ('M', 72, 6, True), ('F', 81, 11, True), ('M', 11, 12, False), ('M', 17, 8, True),\n",
        "                   ('F', 77, 3, True), ('M', 67, 4, False), ('F', 61, 5, True), ('M', 14, 28, False), ('M', 44, 11, True), ('M', 6, 3, False),\n",
        "                    ('M', 28, 19, False), ('F', 91, 10, True), ('F', 72, 6, True), ('F', 26, 5, False)])) == 3\n",
        "print(\"Prueba superada 💪🏽\")   "
      ]
    }
  ],
  "metadata": {
    "colab": {
      "name": "Taller_06.ipynb",
      "provenance": [],
      "include_colab_link": true
    },
    "kernelspec": {
      "display_name": "Python 3",
      "language": "python",
      "name": "python3"
    },
    "language_info": {
      "codemirror_mode": {
        "name": "ipython",
        "version": 3
      },
      "file_extension": ".py",
      "mimetype": "text/x-python",
      "name": "python",
      "nbconvert_exporter": "python",
      "pygments_lexer": "ipython3",
      "version": "3.10.1"
    }
  },
  "nbformat": 4,
  "nbformat_minor": 0
}